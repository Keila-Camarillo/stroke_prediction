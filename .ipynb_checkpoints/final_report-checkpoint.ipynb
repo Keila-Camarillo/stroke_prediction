{
 "cells": [
  {
   "cell_type": "code",
   "execution_count": 1,
   "id": "957875ef",
   "metadata": {},
   "outputs": [],
   "source": [
    "# imports\n",
    "import warnings\n",
    "warnings.filterwarnings(\"ignore\")\n",
    "import os\n",
    "import pandas as pd\n",
    "import numpy as np\n",
    "import matplotlib.pyplot as plt\n",
    "import seaborn as sns\n",
    "from scipy import stats\n",
    "\n",
    "# sklearn imports\n",
    "from sklearn.model_selection import train_test_split\n",
    "from sklearn.metrics import confusion_matrix, classification_report, accuracy_score\n",
    "import sklearn.preprocessing\n",
    "\n",
    "# tree classifier\n",
    "from sklearn.model_selection import train_test_split\n",
    "from sklearn.tree import DecisionTreeClassifier, plot_tree\n",
    "\n",
    "# rainforest classifier\n",
    "from sklearn.ensemble import RandomForestClassifier\n",
    "\n",
    "# linear regession classifier\n",
    "from sklearn.linear_model import LogisticRegression\n",
    "\n",
    "# knn classifier\n",
    "from sklearn.neighbors import KNeighborsClassifier\n",
    "# additional imports \n",
    "import wrangle as w\n",
    "import explore as e\n",
    "# import model as m "
   ]
  },
  {
   "cell_type": "markdown",
   "id": "7b539200",
   "metadata": {},
   "source": [
    "# Project Description \n",
    "This project aims to predict whether a patient is likely to get stroke based on the input parameters like gender, age, various diseases, and smoking status. \n",
    "\n",
    "\n",
    "# Project Goal\n",
    "- Discover drivers of strokes\n",
    "- Use drivers of strokes to develop machine learning models to predict if a patient having a stroke.\n",
    "- Provide data based solutions to reduce strokes\n",
    "\n",
    "# Initial Thoughts\n",
    "- The initial hypothesis for this project is that patient's with high bmi,hypertension and heart disease may be significant drivers of strokes.\n",
    "\n",
    "# Acquire\n",
    "- Aquire dataset from [Kaggle](https://www.kaggle.com/datasets/fedesoriano/stroke-prediction-dataset)\n",
    "- It contained 5110 rows and 12 columns before cleaning\n",
    "- Each row represents a patient\n",
    "- Each column represents a infomational features of the patients\n",
    "\n",
    "\n",
    "# Prepare\n",
    "- Removed columns that did not contain useful information - id column\n",
    "- Renamed columns to promote readability- lowercase names\n",
    "- Checked for nulls in the data (there were nulls within bmi column, which were updated to the average bmi 28.9)\n",
    "- Checked that column data types were appropriate\n",
    "- Added is_child column, which are patient's that are under 18\n",
    "- Gender column, contained one other, row was dropped\n",
    "- Removed features:\n",
    "    -\n",
    "    -\n",
    "    -\n",
    "- Encoded categorical variables\n",
    "- Split data into train, validate and test (approx. 60/20/20), stratifying on 'stroke'\n",
    "- Outliers have not been removed for this iteration of the project"
   ]
  },
  {
   "cell_type": "code",
   "execution_count": 2,
   "id": "1092677c",
   "metadata": {},
   "outputs": [],
   "source": [
    "# acquire and clean df\n",
    "df, model_df = w.clean_df()\n",
    "\n",
    "# splitting data into train, validate, and test\n",
    "train, validate, test = w.split_data(df, \"stroke\")"
   ]
  },
  {
   "cell_type": "markdown",
   "id": "34838bdb",
   "metadata": {},
   "source": [
    "# Data Summary"
   ]
  },
  {
   "cell_type": "code",
   "execution_count": 3,
   "id": "2df95645",
   "metadata": {},
   "outputs": [
    {
     "data": {
      "text/html": [
       "<div>\n",
       "<style scoped>\n",
       "    .dataframe tbody tr th:only-of-type {\n",
       "        vertical-align: middle;\n",
       "    }\n",
       "\n",
       "    .dataframe tbody tr th {\n",
       "        vertical-align: top;\n",
       "    }\n",
       "\n",
       "    .dataframe thead th {\n",
       "        text-align: right;\n",
       "    }\n",
       "</style>\n",
       "<table border=\"1\" class=\"dataframe\">\n",
       "  <thead>\n",
       "    <tr style=\"text-align: right;\">\n",
       "      <th></th>\n",
       "      <th>gender</th>\n",
       "      <th>age</th>\n",
       "      <th>hypertension</th>\n",
       "      <th>heart_disease</th>\n",
       "      <th>ever_married</th>\n",
       "      <th>work_type</th>\n",
       "      <th>residence_type</th>\n",
       "      <th>avg_glucose_level</th>\n",
       "      <th>bmi</th>\n",
       "      <th>smoking_status</th>\n",
       "      <th>...</th>\n",
       "      <th>is_child</th>\n",
       "      <th>gender_male</th>\n",
       "      <th>work_type_govt_job</th>\n",
       "      <th>work_type_never_worked</th>\n",
       "      <th>work_type_private</th>\n",
       "      <th>work_type_self-employed</th>\n",
       "      <th>residence_type_urban</th>\n",
       "      <th>smoking_status_never smoked</th>\n",
       "      <th>smoking_status_smokes</th>\n",
       "      <th>smoking_status_unknown</th>\n",
       "    </tr>\n",
       "  </thead>\n",
       "  <tbody>\n",
       "    <tr>\n",
       "      <th>0</th>\n",
       "      <td>male</td>\n",
       "      <td>67.0</td>\n",
       "      <td>0</td>\n",
       "      <td>1</td>\n",
       "      <td>1</td>\n",
       "      <td>private</td>\n",
       "      <td>urban</td>\n",
       "      <td>228.69</td>\n",
       "      <td>36.6</td>\n",
       "      <td>formerly smoked</td>\n",
       "      <td>...</td>\n",
       "      <td>0</td>\n",
       "      <td>1</td>\n",
       "      <td>0</td>\n",
       "      <td>0</td>\n",
       "      <td>1</td>\n",
       "      <td>0</td>\n",
       "      <td>1</td>\n",
       "      <td>0</td>\n",
       "      <td>0</td>\n",
       "      <td>0</td>\n",
       "    </tr>\n",
       "    <tr>\n",
       "      <th>1</th>\n",
       "      <td>female</td>\n",
       "      <td>61.0</td>\n",
       "      <td>0</td>\n",
       "      <td>0</td>\n",
       "      <td>1</td>\n",
       "      <td>self-employed</td>\n",
       "      <td>rural</td>\n",
       "      <td>202.21</td>\n",
       "      <td>28.9</td>\n",
       "      <td>never smoked</td>\n",
       "      <td>...</td>\n",
       "      <td>0</td>\n",
       "      <td>0</td>\n",
       "      <td>0</td>\n",
       "      <td>0</td>\n",
       "      <td>0</td>\n",
       "      <td>1</td>\n",
       "      <td>0</td>\n",
       "      <td>1</td>\n",
       "      <td>0</td>\n",
       "      <td>0</td>\n",
       "    </tr>\n",
       "    <tr>\n",
       "      <th>2</th>\n",
       "      <td>male</td>\n",
       "      <td>80.0</td>\n",
       "      <td>0</td>\n",
       "      <td>1</td>\n",
       "      <td>1</td>\n",
       "      <td>private</td>\n",
       "      <td>rural</td>\n",
       "      <td>105.92</td>\n",
       "      <td>32.5</td>\n",
       "      <td>never smoked</td>\n",
       "      <td>...</td>\n",
       "      <td>0</td>\n",
       "      <td>1</td>\n",
       "      <td>0</td>\n",
       "      <td>0</td>\n",
       "      <td>1</td>\n",
       "      <td>0</td>\n",
       "      <td>0</td>\n",
       "      <td>1</td>\n",
       "      <td>0</td>\n",
       "      <td>0</td>\n",
       "    </tr>\n",
       "    <tr>\n",
       "      <th>3</th>\n",
       "      <td>female</td>\n",
       "      <td>49.0</td>\n",
       "      <td>0</td>\n",
       "      <td>0</td>\n",
       "      <td>1</td>\n",
       "      <td>private</td>\n",
       "      <td>urban</td>\n",
       "      <td>171.23</td>\n",
       "      <td>34.4</td>\n",
       "      <td>smokes</td>\n",
       "      <td>...</td>\n",
       "      <td>0</td>\n",
       "      <td>0</td>\n",
       "      <td>0</td>\n",
       "      <td>0</td>\n",
       "      <td>1</td>\n",
       "      <td>0</td>\n",
       "      <td>1</td>\n",
       "      <td>0</td>\n",
       "      <td>1</td>\n",
       "      <td>0</td>\n",
       "    </tr>\n",
       "    <tr>\n",
       "      <th>4</th>\n",
       "      <td>female</td>\n",
       "      <td>79.0</td>\n",
       "      <td>1</td>\n",
       "      <td>0</td>\n",
       "      <td>1</td>\n",
       "      <td>self-employed</td>\n",
       "      <td>rural</td>\n",
       "      <td>174.12</td>\n",
       "      <td>24.0</td>\n",
       "      <td>never smoked</td>\n",
       "      <td>...</td>\n",
       "      <td>0</td>\n",
       "      <td>0</td>\n",
       "      <td>0</td>\n",
       "      <td>0</td>\n",
       "      <td>0</td>\n",
       "      <td>1</td>\n",
       "      <td>0</td>\n",
       "      <td>1</td>\n",
       "      <td>0</td>\n",
       "      <td>0</td>\n",
       "    </tr>\n",
       "  </tbody>\n",
       "</table>\n",
       "<p>5 rows × 21 columns</p>\n",
       "</div>"
      ],
      "text/plain": [
       "   gender   age  hypertension  heart_disease  ever_married      work_type  \\\n",
       "0    male  67.0             0              1             1        private   \n",
       "1  female  61.0             0              0             1  self-employed   \n",
       "2    male  80.0             0              1             1        private   \n",
       "3  female  49.0             0              0             1        private   \n",
       "4  female  79.0             1              0             1  self-employed   \n",
       "\n",
       "  residence_type  avg_glucose_level   bmi   smoking_status  ...  is_child  \\\n",
       "0          urban             228.69  36.6  formerly smoked  ...         0   \n",
       "1          rural             202.21  28.9     never smoked  ...         0   \n",
       "2          rural             105.92  32.5     never smoked  ...         0   \n",
       "3          urban             171.23  34.4           smokes  ...         0   \n",
       "4          rural             174.12  24.0     never smoked  ...         0   \n",
       "\n",
       "   gender_male  work_type_govt_job  work_type_never_worked  work_type_private  \\\n",
       "0            1                   0                       0                  1   \n",
       "1            0                   0                       0                  0   \n",
       "2            1                   0                       0                  1   \n",
       "3            0                   0                       0                  1   \n",
       "4            0                   0                       0                  0   \n",
       "\n",
       "   work_type_self-employed  residence_type_urban  smoking_status_never smoked  \\\n",
       "0                        0                     1                            0   \n",
       "1                        1                     0                            1   \n",
       "2                        0                     0                            1   \n",
       "3                        0                     1                            0   \n",
       "4                        1                     0                            1   \n",
       "\n",
       "   smoking_status_smokes  smoking_status_unknown  \n",
       "0                      0                       0  \n",
       "1                      0                       0  \n",
       "2                      0                       0  \n",
       "3                      1                       0  \n",
       "4                      0                       0  \n",
       "\n",
       "[5 rows x 21 columns]"
      ]
     },
     "execution_count": 3,
     "metadata": {},
     "output_type": "execute_result"
    }
   ],
   "source": [
    "# overview of data\n",
    "df.head()"
   ]
  },
  {
   "cell_type": "markdown",
   "id": "031cea30",
   "metadata": {},
   "source": [
    "# Explore\n",
    "## Does Hypertension Affect Whether a Patient Stroke?\n",
    "$H_o$: There is no relationship between hypertension and stroke\n",
    "\n",
    "$H_a$: There is no relationship between hypertension and stroke"
   ]
  },
  {
   "cell_type": "code",
   "execution_count": 4,
   "id": "fafbe806",
   "metadata": {},
   "outputs": [
    {
     "data": {
      "image/png": "[encoded data removed]",
      "text/plain": [
       "<Figure size 640x480 with 1 Axes>"
      ]
     },
     "metadata": {},
     "output_type": "display_data"
    }
   ],
   "source": [
    "# visual graph\n",
    "e.relationship_graph(train, \"Hypertension  \", \"hypertension\", \"stroke\")"
   ]
  },
  {
   "cell_type": "code",
   "execution_count": 5,
   "id": "a0c24127",
   "metadata": {},
   "outputs": [
    {
     "data": {
      "text/html": [
       "<div>\n",
       "<style scoped>\n",
       "    .dataframe tbody tr th:only-of-type {\n",
       "        vertical-align: middle;\n",
       "    }\n",
       "\n",
       "    .dataframe tbody tr th {\n",
       "        vertical-align: top;\n",
       "    }\n",
       "\n",
       "    .dataframe thead th {\n",
       "        text-align: right;\n",
       "    }\n",
       "</style>\n",
       "<table border=\"1\" class=\"dataframe\">\n",
       "  <thead>\n",
       "    <tr style=\"text-align: right;\">\n",
       "      <th></th>\n",
       "      <th>Chi-square statistic</th>\n",
       "      <th>p-value</th>\n",
       "      <th>Decision</th>\n",
       "    </tr>\n",
       "  </thead>\n",
       "  <tbody>\n",
       "    <tr>\n",
       "      <th>0</th>\n",
       "      <td>25.155198</td>\n",
       "      <td>5.289687e-07</td>\n",
       "      <td>Reject Null Hypothesis</td>\n",
       "    </tr>\n",
       "  </tbody>\n",
       "</table>\n",
       "</div>"
      ],
      "text/plain": [
       "   Chi-square statistic       p-value                Decision\n",
       "0             25.155198  5.289687e-07  Reject Null Hypothesis"
      ]
     },
     "execution_count": 5,
     "metadata": {},
     "output_type": "execute_result"
    }
   ],
   "source": [
    "# statisical test\n",
    "e.chi_stats(train, \"hypertension\", \"stroke\")"
   ]
  },
  {
   "cell_type": "markdown",
   "id": "9d591200",
   "metadata": {},
   "source": [
    "**We rejected the null hypothesis, therfore, we have evidence to support that hypertension are more likely to have stroke. Based on this, I believe that using the hypertension feature in modeling will likely have a positive impact on the model's accuracy.**"
   ]
  },
  {
   "cell_type": "markdown",
   "id": "18656928",
   "metadata": {},
   "source": [
    "## Does Heart Disease Affect Whether a Patient Stroke?\n",
    "$H_o$: There is no relationship between heart disease and stroke\n",
    "\n",
    "$H_a$: There is no relationship between heart disease and stroke"
   ]
  },
  {
   "cell_type": "code",
   "execution_count": 6,
   "id": "92aef024",
   "metadata": {},
   "outputs": [
    {
     "data": {
      "image/png": "[encoded data removed]",
      "text/plain": [
       "<Figure size 640x480 with 1 Axes>"
      ]
     },
     "metadata": {},
     "output_type": "display_data"
    }
   ],
   "source": [
    "# visual graph\n",
    "e.relationship_graph(train, \"title \", \"heart_disease\", \"stroke\")"
   ]
  },
  {
   "cell_type": "code",
   "execution_count": 7,
   "id": "0c75c77d",
   "metadata": {},
   "outputs": [
    {
     "data": {
      "text/html": [
       "<div>\n",
       "<style scoped>\n",
       "    .dataframe tbody tr th:only-of-type {\n",
       "        vertical-align: middle;\n",
       "    }\n",
       "\n",
       "    .dataframe tbody tr th {\n",
       "        vertical-align: top;\n",
       "    }\n",
       "\n",
       "    .dataframe thead th {\n",
       "        text-align: right;\n",
       "    }\n",
       "</style>\n",
       "<table border=\"1\" class=\"dataframe\">\n",
       "  <thead>\n",
       "    <tr style=\"text-align: right;\">\n",
       "      <th></th>\n",
       "      <th>Chi-square statistic</th>\n",
       "      <th>p-value</th>\n",
       "      <th>Decision</th>\n",
       "    </tr>\n",
       "  </thead>\n",
       "  <tbody>\n",
       "    <tr>\n",
       "      <th>0</th>\n",
       "      <td>48.781654</td>\n",
       "      <td>2.861035e-12</td>\n",
       "      <td>Reject Null Hypothesis</td>\n",
       "    </tr>\n",
       "  </tbody>\n",
       "</table>\n",
       "</div>"
      ],
      "text/plain": [
       "   Chi-square statistic       p-value                Decision\n",
       "0             48.781654  2.861035e-12  Reject Null Hypothesis"
      ]
     },
     "execution_count": 7,
     "metadata": {},
     "output_type": "execute_result"
    }
   ],
   "source": [
    "# statistical test\n",
    "e.chi_stats(train, \"heart_disease\", \"stroke\")"
   ]
  },
  {
   "cell_type": "markdown",
   "id": "f206a1c5",
   "metadata": {},
   "source": [
    "**Any patient that have heart disease were likely to have a stroke than those who don't have heart disease.Based on this, I believe that using the 'heart_disease' feature in modeling will likely have a small positive impact on the model's accuracy.**"
   ]
  },
  {
   "cell_type": "markdown",
   "id": "2d4bcf6c",
   "metadata": {},
   "source": [
    "## Does Being Married Affect Whether a Patient has a Stroke?\n",
    "$H_o$: There is no relationship between ever_married and stroke\n",
    "\n",
    "$H_a$: There is no relationship between ever_married and stroke"
   ]
  },
  {
   "cell_type": "code",
   "execution_count": 8,
   "id": "ccdf3fd6",
   "metadata": {},
   "outputs": [
    {
     "data": {
      "image/png": "[encoded data removed]",
      "text/plain": [
       "<Figure size 640x480 with 1 Axes>"
      ]
     },
     "metadata": {},
     "output_type": "display_data"
    }
   ],
   "source": [
    "# visual graph\n",
    "e.relationship_graph(train, \"title \", \"ever_married\", \"stroke\")"
   ]
  },
  {
   "cell_type": "code",
   "execution_count": 9,
   "id": "2727e08d",
   "metadata": {},
   "outputs": [
    {
     "data": {
      "text/html": [
       "<div>\n",
       "<style scoped>\n",
       "    .dataframe tbody tr th:only-of-type {\n",
       "        vertical-align: middle;\n",
       "    }\n",
       "\n",
       "    .dataframe tbody tr th {\n",
       "        vertical-align: top;\n",
       "    }\n",
       "\n",
       "    .dataframe thead th {\n",
       "        text-align: right;\n",
       "    }\n",
       "</style>\n",
       "<table border=\"1\" class=\"dataframe\">\n",
       "  <thead>\n",
       "    <tr style=\"text-align: right;\">\n",
       "      <th></th>\n",
       "      <th>Chi-square statistic</th>\n",
       "      <th>p-value</th>\n",
       "      <th>Decision</th>\n",
       "    </tr>\n",
       "  </thead>\n",
       "  <tbody>\n",
       "    <tr>\n",
       "      <th>0</th>\n",
       "      <td>35.6756</td>\n",
       "      <td>2.330649e-09</td>\n",
       "      <td>Reject Null Hypothesis</td>\n",
       "    </tr>\n",
       "  </tbody>\n",
       "</table>\n",
       "</div>"
      ],
      "text/plain": [
       "   Chi-square statistic       p-value                Decision\n",
       "0               35.6756  2.330649e-09  Reject Null Hypothesis"
      ]
     },
     "execution_count": 9,
     "metadata": {},
     "output_type": "execute_result"
    }
   ],
   "source": [
    "# statistical test\n",
    "e.chi_stats(train, \"ever_married\", \"stroke\")"
   ]
  },
  {
   "cell_type": "markdown",
   "id": "a0883b93",
   "metadata": {},
   "source": [
    "**Any patient that was ever married appear to have strokes more often. than rural areas. However there is no statisical significance. Based on this, I believe that using the 'ever_married' feature in modeling will likely have a small positive impact on the model's accuracy.**\n"
   ]
  },
  {
   "cell_type": "markdown",
   "id": "936ba41d",
   "metadata": {},
   "source": [
    "## Does Residence Type Determine Whether a Patient Stroke?\n",
    "$H_o$: There is no relationship between residence_type and stroke\n",
    "\n",
    "$H_a$: There is no relationship between residence_type and stroke"
   ]
  },
  {
   "cell_type": "code",
   "execution_count": 10,
   "id": "a96de7b6",
   "metadata": {},
   "outputs": [
    {
     "data": {
      "image/png": "[encoded data removed]",
      "text/plain": [
       "<Figure size 640x480 with 1 Axes>"
      ]
     },
     "metadata": {},
     "output_type": "display_data"
    }
   ],
   "source": [
    "# visual graph\n",
    "e.relationship_graph(train, \"title \", \"residence_type\", \"stroke\")"
   ]
  },
  {
   "cell_type": "code",
   "execution_count": 11,
   "id": "2a9e34a2",
   "metadata": {},
   "outputs": [
    {
     "data": {
      "text/html": [
       "<div>\n",
       "<style scoped>\n",
       "    .dataframe tbody tr th:only-of-type {\n",
       "        vertical-align: middle;\n",
       "    }\n",
       "\n",
       "    .dataframe tbody tr th {\n",
       "        vertical-align: top;\n",
       "    }\n",
       "\n",
       "    .dataframe thead th {\n",
       "        text-align: right;\n",
       "    }\n",
       "</style>\n",
       "<table border=\"1\" class=\"dataframe\">\n",
       "  <thead>\n",
       "    <tr style=\"text-align: right;\">\n",
       "      <th></th>\n",
       "      <th>Chi-square statistic</th>\n",
       "      <th>p-value</th>\n",
       "      <th>Decision</th>\n",
       "    </tr>\n",
       "  </thead>\n",
       "  <tbody>\n",
       "    <tr>\n",
       "      <th>0</th>\n",
       "      <td>1.415285</td>\n",
       "      <td>0.234181</td>\n",
       "      <td>Fail to Reject Null Hypothesis</td>\n",
       "    </tr>\n",
       "  </tbody>\n",
       "</table>\n",
       "</div>"
      ],
      "text/plain": [
       "   Chi-square statistic   p-value                        Decision\n",
       "0              1.415285  0.234181  Fail to Reject Null Hypothesis"
      ]
     },
     "execution_count": 11,
     "metadata": {},
     "output_type": "execute_result"
    }
   ],
   "source": [
    "# statistical test\n",
    "e.chi_stats(train, \"residence_type\", \"stroke\")"
   ]
  },
  {
   "cell_type": "markdown",
   "id": "81d21522",
   "metadata": {},
   "source": [
    "**Any patient that live in urban areas appear that strokes occur more often than rural areas. However there is no statisical significance. Based on this, I believe that it is not likely that \"residence_type\" will not be a useful feature to model on.**"
   ]
  },
  {
   "cell_type": "markdown",
   "id": "8f3f754b",
   "metadata": {},
   "source": [
    "## Does Smoking Status Type Determine Whether a Patient Stroke?\n",
    "$H_o$: There is no relationship between smoking_status and stroke\n",
    "\n",
    "$H_a$: There is no relationship between smoking_status and stroke"
   ]
  },
  {
   "cell_type": "code",
   "execution_count": 12,
   "id": "cf4a1267",
   "metadata": {},
   "outputs": [
    {
     "data": {
      "image/png": "[encoded data removed]",
      "text/plain": [
       "<Figure size 640x480 with 1 Axes>"
      ]
     },
     "metadata": {},
     "output_type": "display_data"
    }
   ],
   "source": [
    "# visual graph\n",
    "e.relationship_graph(train, \"People Who Formerly Smoked Had Stroks More Often\", \n",
    "                     \"smoking_status\",\n",
    "                     \"stroke\")"
   ]
  },
  {
   "cell_type": "code",
   "execution_count": 13,
   "id": "a8c8f03b",
   "metadata": {},
   "outputs": [
    {
     "data": {
      "text/html": [
       "<div>\n",
       "<style scoped>\n",
       "    .dataframe tbody tr th:only-of-type {\n",
       "        vertical-align: middle;\n",
       "    }\n",
       "\n",
       "    .dataframe tbody tr th {\n",
       "        vertical-align: top;\n",
       "    }\n",
       "\n",
       "    .dataframe thead th {\n",
       "        text-align: right;\n",
       "    }\n",
       "</style>\n",
       "<table border=\"1\" class=\"dataframe\">\n",
       "  <thead>\n",
       "    <tr style=\"text-align: right;\">\n",
       "      <th></th>\n",
       "      <th>Chi-square statistic</th>\n",
       "      <th>p-value</th>\n",
       "      <th>Decision</th>\n",
       "    </tr>\n",
       "  </thead>\n",
       "  <tbody>\n",
       "    <tr>\n",
       "      <th>0</th>\n",
       "      <td>14.997464</td>\n",
       "      <td>0.001819</td>\n",
       "      <td>Reject Null Hypothesis</td>\n",
       "    </tr>\n",
       "  </tbody>\n",
       "</table>\n",
       "</div>"
      ],
      "text/plain": [
       "   Chi-square statistic   p-value                Decision\n",
       "0             14.997464  0.001819  Reject Null Hypothesis"
      ]
     },
     "execution_count": 13,
     "metadata": {},
     "output_type": "execute_result"
    }
   ],
   "source": [
    "# statistical test\n",
    "e.chi_stats(train, \"smoking_status\", \"stroke\")"
   ]
  },
  {
   "cell_type": "markdown",
   "id": "8808cab8",
   "metadata": {},
   "source": [
    "**Any patient that have smoked were likely to have a stroke, those who formerly smoked had higher amounts of strokes, where as smoke doesn't this maybe related to age. Based on this, I believe that using the 'smoking_status' feature in modeling will likely have a small positive impact on the model's accuracy.**"
   ]
  },
  {
   "cell_type": "markdown",
   "id": "a4136b6e",
   "metadata": {},
   "source": [
    "## Does Being a Child Determine Whether a Patient Stroke?\n",
    "$H_o$: There is no relationship between is_child and stroke\n",
    "\n",
    "$H_a$: There is no relationship between is_child and stroke"
   ]
  },
  {
   "cell_type": "code",
   "execution_count": 14,
   "id": "8405cf9b",
   "metadata": {},
   "outputs": [
    {
     "data": {
      "image/png": "[encoded data removed]",
      "text/plain": [
       "<Figure size 640x480 with 1 Axes>"
      ]
     },
     "metadata": {},
     "output_type": "display_data"
    }
   ],
   "source": [
    "# visual graph\n",
    "e.relationship_graph(train, \"Children Under 18 Are Less Likely to Have a Stroke\", \"is_child\", \"stroke\")"
   ]
  },
  {
   "cell_type": "code",
   "execution_count": 15,
   "id": "28f19cc4",
   "metadata": {},
   "outputs": [
    {
     "data": {
      "text/html": [
       "<div>\n",
       "<style scoped>\n",
       "    .dataframe tbody tr th:only-of-type {\n",
       "        vertical-align: middle;\n",
       "    }\n",
       "\n",
       "    .dataframe tbody tr th {\n",
       "        vertical-align: top;\n",
       "    }\n",
       "\n",
       "    .dataframe thead th {\n",
       "        text-align: right;\n",
       "    }\n",
       "</style>\n",
       "<table border=\"1\" class=\"dataframe\">\n",
       "  <thead>\n",
       "    <tr style=\"text-align: right;\">\n",
       "      <th></th>\n",
       "      <th>Chi-square statistic</th>\n",
       "      <th>p-value</th>\n",
       "      <th>Decision</th>\n",
       "    </tr>\n",
       "  </thead>\n",
       "  <tbody>\n",
       "    <tr>\n",
       "      <th>0</th>\n",
       "      <td>26.125698</td>\n",
       "      <td>3.198981e-07</td>\n",
       "      <td>Reject Null Hypothesis</td>\n",
       "    </tr>\n",
       "  </tbody>\n",
       "</table>\n",
       "</div>"
      ],
      "text/plain": [
       "   Chi-square statistic       p-value                Decision\n",
       "0             26.125698  3.198981e-07  Reject Null Hypothesis"
      ]
     },
     "execution_count": 15,
     "metadata": {},
     "output_type": "execute_result"
    }
   ],
   "source": [
    "# statistical test\n",
    "e.chi_stats(train, \"is_child\", \"stroke\")"
   ]
  },
  {
   "cell_type": "markdown",
   "id": "518df7cf",
   "metadata": {},
   "source": [
    "**Children were less likely to suffer from a stroke, than adult. Based on this, I believe that using the 'is_child' feature in modeling will likely have a small positive impact on the model's accuracy.**"
   ]
  },
  {
   "cell_type": "markdown",
   "id": "748f3a3c",
   "metadata": {},
   "source": [
    "## Does Average Glucose Level Affect Whether a Patient Stroke?\n",
    "$H_o$: Mean of avg_glucose_level of patient's who had a stroke <=  Mean of avg_glucose_level for all patients\n",
    "\n",
    "$H_a$: Mean of avg_glucose_level of patient's who had a stroke >  Mean of avg_glucose_level for all patients"
   ]
  },
  {
   "cell_type": "code",
   "execution_count": 16,
   "id": "42308a2c",
   "metadata": {},
   "outputs": [
    {
     "data": {
      "text/plain": [
       "'We reject the null hypothesis.'"
      ]
     },
     "execution_count": 16,
     "metadata": {},
     "output_type": "execute_result"
    }
   ],
   "source": [
    "alpha = 0.05\n",
    "stroke_glucose_sample = train[train.stroke == 1].avg_glucose_level\n",
    "overall_glucose_mean = train.avg_glucose_level.mean()\n",
    "\n",
    "e.perform_t_test(stroke_glucose_sample, overall_glucose_mean)"
   ]
  },
  {
   "cell_type": "markdown",
   "id": "040ebb29",
   "metadata": {},
   "source": [
    "**Average glucose level  had were greater chance of suffering from a stroke, than the overall average. Based on this, I believe that using the 'overall_glucose_mean' feature in modeling will likely have a small positive impact on the model's accuracy.**"
   ]
  },
  {
   "cell_type": "markdown",
   "id": "7d913d41",
   "metadata": {},
   "source": [
    "## Does BMI Affect Whether a Patient Stroke?\n",
    "$H_o$: Mean of BMI of patient's who had a stroke <=  Mean of BMI for all patients\n",
    "\n",
    "$H_a$: Mean of BMI of patient's who had a stroke >  Mean of BMI for all patients"
   ]
  },
  {
   "cell_type": "code",
   "execution_count": 17,
   "id": "058a548a",
   "metadata": {},
   "outputs": [
    {
     "data": {
      "text/plain": [
       "'We fail to reject the null hypothesis.'"
      ]
     },
     "execution_count": 17,
     "metadata": {},
     "output_type": "execute_result"
    }
   ],
   "source": [
    "alpha = 0.05\n",
    "stroke_sample = train[train.stroke == 1].bmi\n",
    "overall_mean = train.bmi.mean()\n",
    "\n",
    "e.perform_t_test(stroke_sample, overall_mean)"
   ]
  },
  {
   "cell_type": "markdown",
   "id": "4b073115",
   "metadata": {},
   "source": [
    "**The one sample test statistic that there is no substantial difference between the observed and expected frequencies.**"
   ]
  },
  {
   "cell_type": "markdown",
   "id": "23b3e682",
   "metadata": {},
   "source": [
    "## Does Gender Affect Whether a Patient Stroke?\n",
    "$H_o$: There is no relationship between gender and stroke\n",
    "\n",
    "$H_a$: There is no relationship between gender and stroke"
   ]
  },
  {
   "cell_type": "code",
   "execution_count": 18,
   "id": "99ed068e",
   "metadata": {},
   "outputs": [
    {
     "data": {
      "image/png": "[encoded data removed]",
      "text/plain": [
       "<Figure size 640x480 with 1 Axes>"
      ]
     },
     "metadata": {},
     "output_type": "display_data"
    }
   ],
   "source": [
    "# visual graph\n",
    "e.relationship_graph(train, \"Gender \", \"gender\", \"stroke\")"
   ]
  },
  {
   "cell_type": "code",
   "execution_count": 19,
   "id": "cb82fac8",
   "metadata": {},
   "outputs": [
    {
     "data": {
      "text/html": [
       "<div>\n",
       "<style scoped>\n",
       "    .dataframe tbody tr th:only-of-type {\n",
       "        vertical-align: middle;\n",
       "    }\n",
       "\n",
       "    .dataframe tbody tr th {\n",
       "        vertical-align: top;\n",
       "    }\n",
       "\n",
       "    .dataframe thead th {\n",
       "        text-align: right;\n",
       "    }\n",
       "</style>\n",
       "<table border=\"1\" class=\"dataframe\">\n",
       "  <thead>\n",
       "    <tr style=\"text-align: right;\">\n",
       "      <th></th>\n",
       "      <th>Chi-square statistic</th>\n",
       "      <th>p-value</th>\n",
       "      <th>Decision</th>\n",
       "    </tr>\n",
       "  </thead>\n",
       "  <tbody>\n",
       "    <tr>\n",
       "      <th>0</th>\n",
       "      <td>0.0</td>\n",
       "      <td>1.0</td>\n",
       "      <td>Fail to Reject Null Hypothesis</td>\n",
       "    </tr>\n",
       "  </tbody>\n",
       "</table>\n",
       "</div>"
      ],
      "text/plain": [
       "   Chi-square statistic  p-value                        Decision\n",
       "0                   0.0      1.0  Fail to Reject Null Hypothesis"
      ]
     },
     "execution_count": 19,
     "metadata": {},
     "output_type": "execute_result"
    }
   ],
   "source": [
    "# statisical test\n",
    "e.chi_stats(train, \"gender\", \"stroke\")"
   ]
  },
  {
   "cell_type": "markdown",
   "id": "62331731",
   "metadata": {},
   "source": [
    "**The Chi-squared statistic that there is no substantial difference between the observed and expected frequencies.**\n",
    "\n",
    "# Exploration Summary\n",
    "- Identifed features that have a significant relationship with target_variable:\n",
    "    -\n",
    "    -\n",
    "    -\n",
    "    -\n",
    "Features that will not be continuing to modeling:\n",
    "    - residence_type\n",
    "    - gender\n",
    "    - bmi\n",
    "    -\n",
    "# Modeling\n",
    "\n",
    "- Evaluation Meteric: Accuracy\n",
    "- Target is target_variable\n",
    "- Baseline: 95.12% (stroke)\n",
    "- Evaluation Meteric (Accuracy) \n",
    "- Models will be developed using a few different types, various features, and various hyperparameter configurations\n",
    "- KNN\n",
    "- Logistic Regression\n",
    "- Decision Tree Classifier\n",
    "- Random Forest Classifier\n",
    "- Support Vector Machine\n",
    "- Models will be evaluated on Train and Validate\n",
    "- Best performing model will only be evaluated on Test"
   ]
  },
  {
   "cell_type": "code",
   "execution_count": 20,
   "id": "48ff040a",
   "metadata": {},
   "outputs": [],
   "source": [
    "# features to keep\n",
    "model_df = model_df[['work_type_govt_job', 'work_type_never_worked',\n",
    "       'work_type_private', 'work_type_self-employed',\n",
    "       'smoking_status_never smoked', 'smoking_status_smokes',\n",
    "       'smoking_status_unknown', 'age', 'is_child', 'hypertension',\n",
    "       'heart_disease', 'ever_married', 'avg_glucose_level', 'stroke']]"
   ]
  },
  {
   "cell_type": "code",
   "execution_count": 21,
   "id": "657ed3f3",
   "metadata": {},
   "outputs": [],
   "source": [
    "# get x and y variables\n",
    "x_train,y_train,x_validate,y_validate,x_test,y_test = e.get_xy(model_df, \"stroke\")"
   ]
  },
  {
   "cell_type": "code",
   "execution_count": 25,
   "id": "15c28e55",
   "metadata": {},
   "outputs": [
    {
     "data": {
      "text/html": [
       "<div>\n",
       "<style scoped>\n",
       "    .dataframe tbody tr th:only-of-type {\n",
       "        vertical-align: middle;\n",
       "    }\n",
       "\n",
       "    .dataframe tbody tr th {\n",
       "        vertical-align: top;\n",
       "    }\n",
       "\n",
       "    .dataframe thead th {\n",
       "        text-align: right;\n",
       "    }\n",
       "</style>\n",
       "<table border=\"1\" class=\"dataframe\">\n",
       "  <thead>\n",
       "    <tr style=\"text-align: right;\">\n",
       "      <th></th>\n",
       "      <th>model</th>\n",
       "      <th>set</th>\n",
       "      <th>accuracy</th>\n",
       "    </tr>\n",
       "  </thead>\n",
       "  <tbody>\n",
       "    <tr>\n",
       "      <th>0</th>\n",
       "      <td>k_nearest_neighbors</td>\n",
       "      <td>train</td>\n",
       "      <td>0.951387</td>\n",
       "    </tr>\n",
       "    <tr>\n",
       "      <th>1</th>\n",
       "      <td>k_nearest_neighbors</td>\n",
       "      <td>validate</td>\n",
       "      <td>0.951076</td>\n",
       "    </tr>\n",
       "    <tr>\n",
       "      <th>2</th>\n",
       "      <td>DecisionTreeClassifier</td>\n",
       "      <td>train</td>\n",
       "      <td>0.952365</td>\n",
       "    </tr>\n",
       "    <tr>\n",
       "      <th>3</th>\n",
       "      <td>DecisionTreeClassifier</td>\n",
       "      <td>validate</td>\n",
       "      <td>0.949119</td>\n",
       "    </tr>\n",
       "    <tr>\n",
       "      <th>4</th>\n",
       "      <td>random_forest</td>\n",
       "      <td>train</td>\n",
       "      <td>0.951387</td>\n",
       "    </tr>\n",
       "    <tr>\n",
       "      <th>5</th>\n",
       "      <td>random_forest</td>\n",
       "      <td>validate</td>\n",
       "      <td>0.951076</td>\n",
       "    </tr>\n",
       "    <tr>\n",
       "      <th>6</th>\n",
       "      <td>support_vector_machine</td>\n",
       "      <td>train</td>\n",
       "      <td>0.951387</td>\n",
       "    </tr>\n",
       "    <tr>\n",
       "      <th>7</th>\n",
       "      <td>support_vector_machine</td>\n",
       "      <td>validate</td>\n",
       "      <td>0.951076</td>\n",
       "    </tr>\n",
       "    <tr>\n",
       "      <th>8</th>\n",
       "      <td>naive_bayes</td>\n",
       "      <td>train</td>\n",
       "      <td>0.512561</td>\n",
       "    </tr>\n",
       "    <tr>\n",
       "      <th>9</th>\n",
       "      <td>naive_bayes</td>\n",
       "      <td>validate</td>\n",
       "      <td>0.520548</td>\n",
       "    </tr>\n",
       "  </tbody>\n",
       "</table>\n",
       "</div>"
      ],
      "text/plain": [
       "                    model       set  accuracy\n",
       "0     k_nearest_neighbors     train  0.951387\n",
       "1     k_nearest_neighbors  validate  0.951076\n",
       "2  DecisionTreeClassifier     train  0.952365\n",
       "3  DecisionTreeClassifier  validate  0.949119\n",
       "4           random_forest     train  0.951387\n",
       "5           random_forest  validate  0.951076\n",
       "6  support_vector_machine     train  0.951387\n",
       "7  support_vector_machine  validate  0.951076\n",
       "8             naive_bayes     train  0.512561\n",
       "9             naive_bayes  validate  0.520548"
      ]
     },
     "execution_count": 25,
     "metadata": {},
     "output_type": "execute_result"
    }
   ],
   "source": [
    "# get models - train and validate scores\n",
    "e.get_models(x_train, y_train, x_validate, y_validate)"
   ]
  },
  {
   "cell_type": "markdown",
   "id": "b66491fc",
   "metadata": {},
   "source": [
    "# Comparing Models\n",
    "- KNN, Decision Tree, Random Forest, and Support Vector Machine performed similarily except Naive Bayes Model which performed poorly. \n",
    "\n",
    "# Model Selection\n",
    "- I will move forward using the Random Forest after hypertuning the parameters the best random forest is min_samples_leaf=5, max_depth=6"
   ]
  },
  {
   "cell_type": "code",
   "execution_count": 26,
   "id": "818bd18c",
   "metadata": {},
   "outputs": [
    {
     "data": {
      "text/html": [
       "<div>\n",
       "<style scoped>\n",
       "    .dataframe tbody tr th:only-of-type {\n",
       "        vertical-align: middle;\n",
       "    }\n",
       "\n",
       "    .dataframe tbody tr th {\n",
       "        vertical-align: top;\n",
       "    }\n",
       "\n",
       "    .dataframe thead th {\n",
       "        text-align: right;\n",
       "    }\n",
       "</style>\n",
       "<table border=\"1\" class=\"dataframe\">\n",
       "  <thead>\n",
       "    <tr style=\"text-align: right;\">\n",
       "      <th></th>\n",
       "      <th>model</th>\n",
       "      <th>set</th>\n",
       "      <th>accuracy</th>\n",
       "    </tr>\n",
       "  </thead>\n",
       "  <tbody>\n",
       "    <tr>\n",
       "      <th>0</th>\n",
       "      <td>Random Forest</td>\n",
       "      <td>test</td>\n",
       "      <td>0.951076</td>\n",
       "    </tr>\n",
       "  </tbody>\n",
       "</table>\n",
       "</div>"
      ],
      "text/plain": [
       "           model   set  accuracy\n",
       "0  Random Forest  test  0.951076"
      ]
     },
     "execution_count": 26,
     "metadata": {},
     "output_type": "execute_result"
    }
   ],
   "source": [
    "# run final model\n",
    "e.rf_model(x_train, y_train, x_test, y_test)"
   ]
  },
  {
   "cell_type": "markdown",
   "id": "70bbfce5",
   "metadata": {},
   "source": [
    "# Model Summary\n",
    "- The Random Forest model had a test accuracy score of 95.10%, which does not beat baseline. I believe this occurred because there wasn't a fair amount of strokes within the dataset.\n",
    "\n",
    "# Report - Takeaways & Conclusions\n",
    "Exploration\n",
    "\n",
    "Features in Model:\n",
    "    -\n",
    "Features not in Model:\n",
    "    -\n",
    "    \n",
    "# Recommendations\n",
    "- \n",
    "-\n",
    "\n",
    "# Next Steps\n",
    "\n",
    "-\n",
    "-"
   ]
  },
  {
   "cell_type": "code",
   "execution_count": null,
   "id": "8f3cb68b",
   "metadata": {},
   "outputs": [],
   "source": []
  }
 ],
 "metadata": {
  "kernelspec": {
   "display_name": "Python 3 (ipykernel)",
   "language": "python",
   "name": "python3"
  },
  "language_info": {
   "codemirror_mode": {
    "name": "ipython",
    "version": 3
   },
   "file_extension": ".py",
   "mimetype": "text/x-python",
   "name": "python",
   "nbconvert_exporter": "python",
   "pygments_lexer": "ipython3",
   "version": "3.11.1"
  }
 },
 "nbformat": 4,
 "nbformat_minor": 5
}
